{
 "cells": [
  {
   "cell_type": "markdown",
   "id": "038ffea7",
   "metadata": {},
   "source": [
    "# Conditional"
   ]
  },
  {
   "cell_type": "code",
   "execution_count": 4,
   "id": "d26f91c0",
   "metadata": {},
   "outputs": [
    {
     "name": "stdout",
     "output_type": "stream",
     "text": [
      "yes\n",
      "other yes\n"
     ]
    },
    {
     "data": {
      "text/plain": [
       "4"
      ]
     },
     "execution_count": 4,
     "metadata": {},
     "output_type": "execute_result"
    }
   ],
   "source": [
    "if 1 < 2:\n",
    "    print (\"yes\")\n",
    "    print (\"other yes\")\n",
    "    \n",
    "1+3"
   ]
  },
  {
   "cell_type": "code",
   "execution_count": 5,
   "id": "24630a60",
   "metadata": {},
   "outputs": [
    {
     "name": "stdout",
     "output_type": "stream",
     "text": [
      "yes\n"
     ]
    }
   ],
   "source": [
    "x=0\n",
    "y=5\n",
    "\n",
    "if x<y:\n",
    "    print('yes')\n",
    "    \n",
    "if y<x:\n",
    "    print('yes')"
   ]
  },
  {
   "cell_type": "code",
   "execution_count": 8,
   "id": "d9f24dc2",
   "metadata": {},
   "outputs": [
    {
     "name": "stdout",
     "output_type": "stream",
     "text": [
      "benar\n"
     ]
    }
   ],
   "source": [
    "x = 0\n",
    "\n",
    "if x<1:\n",
    "    print ('benar')\n",
    "elif x>2:\n",
    "    print ('benar2')\n",
    "else:\n",
    "    print ('salah')"
   ]
  },
  {
   "cell_type": "code",
   "execution_count": 10,
   "id": "8b3d658a",
   "metadata": {},
   "outputs": [
    {
     "name": "stdout",
     "output_type": "stream",
     "text": [
      "Kita pergi ke pantai\n"
     ]
    }
   ],
   "source": [
    "raining = False\n",
    "print ('Kita pergi ke', \"pantai\" if not raining else \"perpustakaan\")"
   ]
  },
  {
   "cell_type": "code",
   "execution_count": 11,
   "id": "cf955143",
   "metadata": {},
   "outputs": [
    {
     "name": "stdout",
     "output_type": "stream",
     "text": [
      "foo\n"
     ]
    }
   ],
   "source": [
    "if True:\n",
    "    pass\n",
    "\n",
    "print ('foo')"
   ]
  },
  {
   "cell_type": "code",
   "execution_count": null,
   "id": "02af392b",
   "metadata": {},
   "outputs": [],
   "source": []
  }
 ],
 "metadata": {
  "kernelspec": {
   "display_name": "Python 3 (ipykernel)",
   "language": "python",
   "name": "python3"
  },
  "language_info": {
   "codemirror_mode": {
    "name": "ipython",
    "version": 3
   },
   "file_extension": ".py",
   "mimetype": "text/x-python",
   "name": "python",
   "nbconvert_exporter": "python",
   "pygments_lexer": "ipython3",
   "version": "3.9.6"
  }
 },
 "nbformat": 4,
 "nbformat_minor": 5
}
