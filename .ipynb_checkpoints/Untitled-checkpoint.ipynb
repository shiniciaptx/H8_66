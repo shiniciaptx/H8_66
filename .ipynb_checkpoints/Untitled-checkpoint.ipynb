{
 "cells": [
  {
   "cell_type": "code",
   "execution_count": 4,
   "id": "1fb4dae8",
   "metadata": {},
   "outputs": [
    {
     "name": "stdout",
     "output_type": "stream",
     "text": [
      "Hello World!\n"
     ]
    }
   ],
   "source": [
    "print (\"Hello World!\")"
   ]
  },
  {
   "cell_type": "code",
   "execution_count": 5,
   "id": "6a6809f9",
   "metadata": {},
   "outputs": [
    {
     "data": {
      "text/plain": [
       "4"
      ]
     },
     "execution_count": 5,
     "metadata": {},
     "output_type": "execute_result"
    }
   ],
   "source": [
    "2+2"
   ]
  },
  {
   "cell_type": "markdown",
   "id": "06fd3a32",
   "metadata": {},
   "source": [
    "ini adalah markdown\n",
    "1. poin satu\n",
    "2. poin dua"
   ]
  },
  {
   "cell_type": "markdown",
   "id": "9a7aa2b6",
   "metadata": {},
   "source": [
    "test"
   ]
  },
  {
   "cell_type": "markdown",
   "id": "98074124",
   "metadata": {},
   "source": [
    "#Heading 1"
   ]
  },
  {
   "cell_type": "markdown",
   "id": "02c5941f",
   "metadata": {},
   "source": [
    "# Heading 1"
   ]
  },
  {
   "cell_type": "code",
   "execution_count": 8,
   "id": "30c64c22",
   "metadata": {},
   "outputs": [
    {
     "data": {
      "text/plain": [
       "int"
      ]
     },
     "execution_count": 8,
     "metadata": {},
     "output_type": "execute_result"
    }
   ],
   "source": [
    "type (1221219299292839382928383928191291222929 + 2)"
   ]
  },
  {
   "cell_type": "code",
   "execution_count": 9,
   "id": "e6aa2811",
   "metadata": {},
   "outputs": [
    {
     "name": "stdout",
     "output_type": "stream",
     "text": [
      "4.0\n"
     ]
    }
   ],
   "source": [
    "print(4.)"
   ]
  },
  {
   "cell_type": "code",
   "execution_count": 10,
   "id": "a3a44483",
   "metadata": {},
   "outputs": [
    {
     "name": "stdout",
     "output_type": "stream",
     "text": [
      "4.2\n"
     ]
    }
   ],
   "source": [
    "print(4.2)"
   ]
  },
  {
   "cell_type": "code",
   "execution_count": 11,
   "id": "e0660a79",
   "metadata": {},
   "outputs": [
    {
     "name": "stdout",
     "output_type": "stream",
     "text": [
      "<class 'float'>\n"
     ]
    }
   ],
   "source": [
    "print(type(.2))"
   ]
  },
  {
   "cell_type": "code",
   "execution_count": 12,
   "id": "134735bb",
   "metadata": {},
   "outputs": [
    {
     "name": "stdout",
     "output_type": "stream",
     "text": [
      "Ini String\n"
     ]
    }
   ],
   "source": [
    "print(\"Ini String\")"
   ]
  },
  {
   "cell_type": "code",
   "execution_count": 13,
   "id": "ceeeac5a",
   "metadata": {},
   "outputs": [
    {
     "name": "stdout",
     "output_type": "stream",
     "text": [
      "False\n"
     ]
    }
   ],
   "source": [
    "print(False)"
   ]
  },
  {
   "cell_type": "code",
   "execution_count": 14,
   "id": "eded97f4",
   "metadata": {},
   "outputs": [
    {
     "name": "stdout",
     "output_type": "stream",
     "text": [
      "<class 'bool'>\n"
     ]
    }
   ],
   "source": [
    "print(type(False))"
   ]
  },
  {
   "cell_type": "code",
   "execution_count": 15,
   "id": "7d58fece",
   "metadata": {},
   "outputs": [
    {
     "data": {
      "text/plain": [
       "200"
      ]
     },
     "execution_count": 15,
     "metadata": {},
     "output_type": "execute_result"
    }
   ],
   "source": [
    "n = 200\n",
    "n"
   ]
  },
  {
   "cell_type": "code",
   "execution_count": 16,
   "id": "20729e0a",
   "metadata": {},
   "outputs": [
    {
     "data": {
      "text/plain": [
       "6"
      ]
     },
     "execution_count": 16,
     "metadata": {},
     "output_type": "execute_result"
    }
   ],
   "source": [
    "n = 2\n",
    "m = 3\n",
    "\n",
    "n*m"
   ]
  },
  {
   "cell_type": "code",
   "execution_count": 19,
   "id": "c52a00c7",
   "metadata": {},
   "outputs": [],
   "source": [
    "var = 2"
   ]
  },
  {
   "cell_type": "code",
   "execution_count": 20,
   "id": "ecff963c",
   "metadata": {},
   "outputs": [
    {
     "data": {
      "text/plain": [
       "2"
      ]
     },
     "execution_count": 20,
     "metadata": {},
     "output_type": "execute_result"
    }
   ],
   "source": [
    "var"
   ]
  },
  {
   "cell_type": "code",
   "execution_count": 23,
   "id": "83bf2470",
   "metadata": {},
   "outputs": [
    {
     "data": {
      "text/plain": [
       "'2'"
      ]
     },
     "execution_count": 23,
     "metadata": {},
     "output_type": "execute_result"
    }
   ],
   "source": [
    "var = \"2\"\n",
    "var"
   ]
  },
  {
   "cell_type": "code",
   "execution_count": 24,
   "id": "b08f8b14",
   "metadata": {},
   "outputs": [
    {
     "data": {
      "text/plain": [
       "str"
      ]
     },
     "execution_count": 24,
     "metadata": {},
     "output_type": "execute_result"
    }
   ],
   "source": [
    "type(var)"
   ]
  },
  {
   "cell_type": "code",
   "execution_count": 29,
   "id": "630f8eb6",
   "metadata": {},
   "outputs": [
    {
     "name": "stdout",
     "output_type": "stream",
     "text": [
      "Sukma 30 True\n"
     ]
    }
   ],
   "source": [
    "name = \"Sukma\"\n",
    "age = 30\n",
    "sehat = True\n",
    "print(name, age, sehat)"
   ]
  },
  {
   "cell_type": "code",
   "execution_count": 38,
   "id": "b25f3def",
   "metadata": {},
   "outputs": [
    {
     "data": {
      "text/plain": [
       "4.4"
      ]
     },
     "execution_count": 38,
     "metadata": {},
     "output_type": "execute_result"
    }
   ],
   "source": [
    "#list\n",
    "\n",
    "a=[1,2,3,4.4]\n",
    "max(a)"
   ]
  },
  {
   "cell_type": "code",
   "execution_count": 31,
   "id": "9c69fb42",
   "metadata": {},
   "outputs": [
    {
     "data": {
      "text/plain": [
       "'r'"
      ]
     },
     "execution_count": 31,
     "metadata": {},
     "output_type": "execute_result"
    }
   ],
   "source": [
    "a=\"str\"\n",
    "a[2]"
   ]
  },
  {
   "cell_type": "code",
   "execution_count": 51,
   "id": "abad9a61",
   "metadata": {},
   "outputs": [
    {
     "data": {
      "text/plain": [
       "['abc', 'def', 'ghi', 9, 8, 'insert', 'this', 'string', 7, 6, 5, 4, 3, 2, 1]"
      ]
     },
     "execution_count": 51,
     "metadata": {},
     "output_type": "execute_result"
    }
   ],
   "source": [
    "a = [\"abc\",\"def\",\"ghi\",9,8,7,6,5,4,3,2,1]\n",
    "a[5:3]=[\"insert\",\"this\",\"string\"]\n",
    "a"
   ]
  },
  {
   "cell_type": "code",
   "execution_count": 52,
   "id": "2aacff01",
   "metadata": {},
   "outputs": [
    {
     "data": {
      "text/plain": [
       "['a', 'b', 'c']"
      ]
     },
     "execution_count": 52,
     "metadata": {},
     "output_type": "execute_result"
    }
   ],
   "source": [
    "#tuples -> isian tidak dapat diubah\n",
    "\n",
    "tup = [\"a\",\"b\",\"c\"]\n",
    "tup"
   ]
  },
  {
   "cell_type": "code",
   "execution_count": 53,
   "id": "83b95fc9",
   "metadata": {},
   "outputs": [],
   "source": [
    "s1, s2, s3 = [\"a\",\"b\",\"c\"]"
   ]
  },
  {
   "cell_type": "code",
   "execution_count": 54,
   "id": "45ecac1a",
   "metadata": {},
   "outputs": [
    {
     "data": {
      "text/plain": [
       "'a'"
      ]
     },
     "execution_count": 54,
     "metadata": {},
     "output_type": "execute_result"
    }
   ],
   "source": [
    "s1"
   ]
  },
  {
   "cell_type": "code",
   "execution_count": 65,
   "id": "e42f45d6",
   "metadata": {},
   "outputs": [],
   "source": [
    "nested_list = [\"a\",\"b\",\"c\",[1,2,3,[4,5,[6,7]]],[\"element\",\"lagi\"]]"
   ]
  },
  {
   "cell_type": "code",
   "execution_count": 71,
   "id": "2bbd5701",
   "metadata": {},
   "outputs": [
    {
     "data": {
      "text/plain": [
       "7"
      ]
     },
     "execution_count": 71,
     "metadata": {},
     "output_type": "execute_result"
    }
   ],
   "source": [
    "nested_list[3][3][2][1]"
   ]
  },
  {
   "cell_type": "code",
   "execution_count": 74,
   "id": "18f2d566",
   "metadata": {},
   "outputs": [],
   "source": [
    "#dictionary\n",
    "\n",
    "coba = {\n",
    "    'anjing':'asu',\n",
    "    'gajah':'belang',\n",
    "    'babi':'kau'\n",
    "}"
   ]
  },
  {
   "cell_type": "code",
   "execution_count": 79,
   "id": "b58f2f14",
   "metadata": {},
   "outputs": [
    {
     "name": "stdout",
     "output_type": "stream",
     "text": [
      "asu\n"
     ]
    }
   ],
   "source": [
    "print(coba['anjing'])"
   ]
  },
  {
   "cell_type": "code",
   "execution_count": 80,
   "id": "1284afac",
   "metadata": {},
   "outputs": [],
   "source": [
    "person ={}"
   ]
  },
  {
   "cell_type": "code",
   "execution_count": 81,
   "id": "5711a918",
   "metadata": {},
   "outputs": [
    {
     "data": {
      "text/plain": [
       "dict"
      ]
     },
     "execution_count": 81,
     "metadata": {},
     "output_type": "execute_result"
    }
   ],
   "source": [
    "type(person)"
   ]
  },
  {
   "cell_type": "code",
   "execution_count": 82,
   "id": "9d5dafa4",
   "metadata": {},
   "outputs": [],
   "source": [
    "person['fname']='Nama'\n",
    "person['fdate']='Des 1990'\n",
    "person['kabupaten']='Bogor'"
   ]
  },
  {
   "cell_type": "code",
   "execution_count": 83,
   "id": "8d7e530e",
   "metadata": {},
   "outputs": [
    {
     "name": "stdout",
     "output_type": "stream",
     "text": [
      "Bogor\n"
     ]
    }
   ],
   "source": [
    "print(person['kabupaten'])"
   ]
  },
  {
   "cell_type": "code",
   "execution_count": 84,
   "id": "6498ee93",
   "metadata": {},
   "outputs": [],
   "source": [
    "person['list_dict']=[1,2,3,4,5,6]"
   ]
  },
  {
   "cell_type": "code",
   "execution_count": 85,
   "id": "f6d1f1ae",
   "metadata": {},
   "outputs": [],
   "source": [
    "person['list_list']={'satu':'hiji','dua':'dua duei'}"
   ]
  },
  {
   "cell_type": "code",
   "execution_count": 87,
   "id": "05b76cd0",
   "metadata": {},
   "outputs": [
    {
     "name": "stdout",
     "output_type": "stream",
     "text": [
      "hiji\n"
     ]
    }
   ],
   "source": [
    "print(person[\"list_list\"]['satu'])"
   ]
  },
  {
   "cell_type": "code",
   "execution_count": null,
   "id": "80cf677c",
   "metadata": {},
   "outputs": [],
   "source": [
    "person1 = 42\n",
    "person2 = 16\n",
    "person3 = 71"
   ]
  }
 ],
 "metadata": {
  "kernelspec": {
   "display_name": "Python 3 (ipykernel)",
   "language": "python",
   "name": "python3"
  },
  "language_info": {
   "codemirror_mode": {
    "name": "ipython",
    "version": 3
   },
   "file_extension": ".py",
   "mimetype": "text/x-python",
   "name": "python",
   "nbconvert_exporter": "python",
   "pygments_lexer": "ipython3",
   "version": "3.9.6"
  }
 },
 "nbformat": 4,
 "nbformat_minor": 5
}
