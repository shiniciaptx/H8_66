{
 "cells": [
  {
   "cell_type": "code",
   "execution_count": 1,
   "id": "f79207ed",
   "metadata": {},
   "outputs": [],
   "source": [
    "def my_function(p,l):\n",
    "    \"Funsi untuk menghitung luas\"\n",
    "    print (p*l)"
   ]
  },
  {
   "cell_type": "code",
   "execution_count": 2,
   "id": "96d0de01",
   "metadata": {},
   "outputs": [
    {
     "name": "stdout",
     "output_type": "stream",
     "text": [
      "8\n"
     ]
    }
   ],
   "source": [
    "my_function(2,4)"
   ]
  },
  {
   "cell_type": "code",
   "execution_count": 3,
   "id": "fc3871dd",
   "metadata": {},
   "outputs": [],
   "source": [
    "def printme(str):\n",
    "    print(str)\n",
    "    return"
   ]
  },
  {
   "cell_type": "code",
   "execution_count": 4,
   "id": "d2c13bf3",
   "metadata": {},
   "outputs": [
    {
     "name": "stdout",
     "output_type": "stream",
     "text": [
      "Halo\n"
     ]
    }
   ],
   "source": [
    "printme(\"Halo\")"
   ]
  },
  {
   "cell_type": "code",
   "execution_count": 5,
   "id": "87017258",
   "metadata": {},
   "outputs": [],
   "source": [
    "def luaslingkaran(r):\n",
    "    print (\"luas lingkaran:\")\n",
    "    print(22/7 * r)\n",
    "    "
   ]
  },
  {
   "cell_type": "code",
   "execution_count": 8,
   "id": "b8b81af6",
   "metadata": {},
   "outputs": [
    {
     "name": "stdout",
     "output_type": "stream",
     "text": [
      "luas lingkaran:\n",
      "94.28571428571428\n"
     ]
    }
   ],
   "source": [
    "luaslingkaran(30)"
   ]
  },
  {
   "cell_type": "code",
   "execution_count": 10,
   "id": "2be07b66",
   "metadata": {},
   "outputs": [
    {
     "name": "stdout",
     "output_type": "stream",
     "text": [
      "I;m first call to user defined function!\n",
      "Again secon call to the same function\n"
     ]
    }
   ],
   "source": [
    "printme(\"I;m first call to user defined function!\")\n",
    "printme(\"Again secon call to the same function\")"
   ]
  },
  {
   "cell_type": "code",
   "execution_count": 12,
   "id": "1bcf6acb",
   "metadata": {},
   "outputs": [
    {
     "name": "stdout",
     "output_type": "stream",
     "text": [
      "Values inside the function:  [10, 20, 30, [1, 2, 3, 4]]\n",
      "Values outside the function:  [10, 20, 30, [1, 2, 3, 4]]\n"
     ]
    }
   ],
   "source": [
    "def changeme(mylist):\n",
    "    \"This changes a passed list into this function\"\n",
    "    mylist.append([1,2,3,4]);\n",
    "    print (\"Values inside the function: \", mylist)\n",
    "    return\n",
    "\n",
    "a=[10,20,30];\n",
    "changeme(a);\n",
    "print(\"Values outside the function: \", mylist)"
   ]
  },
  {
   "cell_type": "code",
   "execution_count": 18,
   "id": "ab3d52b7",
   "metadata": {},
   "outputs": [
    {
     "name": "stdout",
     "output_type": "stream",
     "text": [
      "Values inside the function:  [1, 2, 3, 4]\n",
      "[]\n"
     ]
    }
   ],
   "source": [
    "def changeme(mylist):\n",
    "    \"This changes a passed list into this function\"\n",
    "    mylist=[1,2,3,4]\n",
    "    print (\"Values inside the function: \", mylist)\n",
    "    return\n",
    "\n",
    "\n",
    "changeme(mylist)\n",
    "mylist=[10,20,30]\n",
    "def dellist(b):\n",
    "    b=[]\n",
    "    print(b)\n",
    "    return\n",
    "dellist(mylist)\n",
    "#print(\"Values outside the function: \", mylist)"
   ]
  },
  {
   "cell_type": "markdown",
   "id": "510ad731",
   "metadata": {},
   "source": [
    "# Required Arguments"
   ]
  },
  {
   "cell_type": "code",
   "execution_count": 19,
   "id": "0ceb3681",
   "metadata": {},
   "outputs": [
    {
     "ename": "TypeError",
     "evalue": "printme() missing 1 required positional argument: 'str'",
     "output_type": "error",
     "traceback": [
      "\u001b[1;31m---------------------------------------------------------------------------\u001b[0m",
      "\u001b[1;31mTypeError\u001b[0m                                 Traceback (most recent call last)",
      "\u001b[1;32m~\\AppData\\Local\\Temp/ipykernel_11448/1994411422.py\u001b[0m in \u001b[0;36m<module>\u001b[1;34m\u001b[0m\n\u001b[0;32m      3\u001b[0m     \u001b[1;32mreturn\u001b[0m\u001b[1;33m\u001b[0m\u001b[1;33m\u001b[0m\u001b[0m\n\u001b[0;32m      4\u001b[0m \u001b[1;33m\u001b[0m\u001b[0m\n\u001b[1;32m----> 5\u001b[1;33m \u001b[0mprintme\u001b[0m\u001b[1;33m(\u001b[0m\u001b[1;33m)\u001b[0m\u001b[1;33m\u001b[0m\u001b[1;33m\u001b[0m\u001b[0m\n\u001b[0m",
      "\u001b[1;31mTypeError\u001b[0m: printme() missing 1 required positional argument: 'str'"
     ]
    }
   ],
   "source": [
    "def printme(str):\n",
    "    print(str)\n",
    "    return\n",
    "\n",
    "printme()"
   ]
  },
  {
   "cell_type": "markdown",
   "id": "a4cae4ef",
   "metadata": {},
   "source": [
    "# Keyword Arguments"
   ]
  },
  {
   "cell_type": "code",
   "execution_count": 20,
   "id": "2c9f9077",
   "metadata": {},
   "outputs": [
    {
     "name": "stdout",
     "output_type": "stream",
     "text": [
      "Coba\n"
     ]
    }
   ],
   "source": [
    "def printme(str):\n",
    "    print(str)\n",
    "    return\n",
    "\n",
    "printme(str = \"Coba\")"
   ]
  },
  {
   "cell_type": "code",
   "execution_count": 21,
   "id": "1525972b",
   "metadata": {},
   "outputs": [
    {
     "name": "stdout",
     "output_type": "stream",
     "text": [
      "Name:  a\n",
      "Age:  4\n"
     ]
    }
   ],
   "source": [
    "def printinfo(name,age):\n",
    "    \"This print a passed info into this function\"\n",
    "    print(\"Name: \",name)\n",
    "    print(\"Age: \", age)\n",
    "    return;\n",
    "\n",
    "printinfo(age=4,name=\"a\")"
   ]
  },
  {
   "cell_type": "markdown",
   "id": "d0ebd439",
   "metadata": {},
   "source": [
    "# Default Argument"
   ]
  },
  {
   "cell_type": "code",
   "execution_count": 23,
   "id": "d14333d1",
   "metadata": {},
   "outputs": [
    {
     "name": "stdout",
     "output_type": "stream",
     "text": [
      "Name:  a\n",
      "Age:  50\n",
      "Name:  a\n",
      "Age:  26\n"
     ]
    }
   ],
   "source": [
    "def printinfo(name,age = 26):\n",
    "    \"This print a passed info into this function\"\n",
    "    print(\"Name: \",name)\n",
    "    print(\"Age: \", age)\n",
    "    return;\n",
    "\n",
    "printinfo(age=50,name=\"a\")\n",
    "printinfo(name=\"a\")"
   ]
  },
  {
   "cell_type": "markdown",
   "id": "5ae78c34",
   "metadata": {},
   "source": [
    "# Anonymous Functions"
   ]
  },
  {
   "cell_type": "code",
   "execution_count": 28,
   "id": "6f92bef5",
   "metadata": {},
   "outputs": [
    {
     "name": "stdout",
     "output_type": "stream",
     "text": [
      "Total: 30\n",
      "Total: 30\n"
     ]
    }
   ],
   "source": [
    "sum = lambda arg1, arg2: arg1+arg2;\n",
    "    \n",
    "print(\"Total:\", sum(10,20))\n",
    "print(\"Total:\", sum(10,20))"
   ]
  },
  {
   "cell_type": "markdown",
   "id": "05e4c2fa",
   "metadata": {},
   "source": [
    "# the Return Statement"
   ]
  },
  {
   "cell_type": "code",
   "execution_count": 29,
   "id": "bdf45a76",
   "metadata": {},
   "outputs": [
    {
     "name": "stdout",
     "output_type": "stream",
     "text": [
      "Inside : 30\n",
      "outside: 40\n"
     ]
    }
   ],
   "source": [
    "def sum(a,b):\n",
    "    total = a+b\n",
    "    total2 = total + a\n",
    "    print (\"Inside :\", total)\n",
    "    return total2\n",
    "\n",
    "total = sum(10,20)\n",
    "print(\"outside:\", total)"
   ]
  },
  {
   "cell_type": "code",
   "execution_count": 32,
   "id": "b161a798",
   "metadata": {},
   "outputs": [
    {
     "name": "stdout",
     "output_type": "stream",
     "text": [
      "Inside : 30\n",
      "outside (global): 0\n"
     ]
    }
   ],
   "source": [
    "total = 0;\n",
    "\n",
    "def sum(a,b):\n",
    "    total = a+b\n",
    "    print (\"Inside :\", total)\n",
    "    return total\n",
    "    \n",
    "sum(10,20);\n",
    "print (\"outside (global):\",total)"
   ]
  },
  {
   "cell_type": "code",
   "execution_count": 40,
   "id": "7baa2f70",
   "metadata": {},
   "outputs": [
    {
     "data": {
      "text/plain": [
       "'Belajar Python'"
      ]
     },
     "execution_count": 40,
     "metadata": {},
     "output_type": "execute_result"
    }
   ],
   "source": [
    "from mod import s, a\n",
    "s"
   ]
  },
  {
   "cell_type": "code",
   "execution_count": 41,
   "id": "e5dd4985",
   "metadata": {},
   "outputs": [
    {
     "data": {
      "text/plain": [
       "[100, 200, 300]"
      ]
     },
     "execution_count": 41,
     "metadata": {},
     "output_type": "execute_result"
    }
   ],
   "source": [
    "a = ['a','b','c']\n",
    "from mod import a\n",
    "a"
   ]
  },
  {
   "cell_type": "code",
   "execution_count": 42,
   "id": "5b6e22ff",
   "metadata": {},
   "outputs": [],
   "source": [
    "from mod import s as string, a as alist"
   ]
  },
  {
   "cell_type": "code",
   "execution_count": 43,
   "id": "bc5c82eb",
   "metadata": {},
   "outputs": [
    {
     "data": {
      "text/plain": [
       "'Belajar Python'"
      ]
     },
     "execution_count": 43,
     "metadata": {},
     "output_type": "execute_result"
    }
   ],
   "source": [
    "s"
   ]
  },
  {
   "cell_type": "code",
   "execution_count": 44,
   "id": "3ac76096",
   "metadata": {},
   "outputs": [
    {
     "data": {
      "text/plain": [
       "'Belajar Python'"
      ]
     },
     "execution_count": 44,
     "metadata": {},
     "output_type": "execute_result"
    }
   ],
   "source": [
    "string"
   ]
  },
  {
   "cell_type": "code",
   "execution_count": 45,
   "id": "3d2d129c",
   "metadata": {},
   "outputs": [
    {
     "data": {
      "text/plain": [
       "[100, 200, 300]"
      ]
     },
     "execution_count": 45,
     "metadata": {},
     "output_type": "execute_result"
    }
   ],
   "source": [
    "a"
   ]
  },
  {
   "cell_type": "code",
   "execution_count": 46,
   "id": "ab8b6150",
   "metadata": {},
   "outputs": [
    {
     "data": {
      "text/plain": [
       "[100, 200, 300]"
      ]
     },
     "execution_count": 46,
     "metadata": {},
     "output_type": "execute_result"
    }
   ],
   "source": [
    "alist"
   ]
  },
  {
   "cell_type": "code",
   "execution_count": 47,
   "id": "a2c69d64",
   "metadata": {},
   "outputs": [],
   "source": [
    "import mod as my_module"
   ]
  },
  {
   "cell_type": "code",
   "execution_count": 48,
   "id": "4887e556",
   "metadata": {},
   "outputs": [
    {
     "data": {
      "text/plain": [
       "[100, 200, 300]"
      ]
     },
     "execution_count": 48,
     "metadata": {},
     "output_type": "execute_result"
    }
   ],
   "source": [
    "my_module.a"
   ]
  },
  {
   "cell_type": "code",
   "execution_count": 49,
   "id": "8efad7df",
   "metadata": {},
   "outputs": [
    {
     "name": "stdout",
     "output_type": "stream",
     "text": [
      "arg = corge\n"
     ]
    }
   ],
   "source": [
    "def bar():\n",
    "    from mod import foo\n",
    "    foo('corge')\n",
    "\n",
    "bar()"
   ]
  },
  {
   "cell_type": "code",
   "execution_count": 50,
   "id": "7c477850",
   "metadata": {},
   "outputs": [
    {
     "name": "stdout",
     "output_type": "stream",
     "text": [
      "Tidak ada modul\n"
     ]
    }
   ],
   "source": [
    "try:\n",
    "    #Modul tidak ketemu\n",
    "    import baz\n",
    "except ImportError:\n",
    "    print('Tidak ada modul')"
   ]
  },
  {
   "cell_type": "code",
   "execution_count": 51,
   "id": "0092ec9f",
   "metadata": {},
   "outputs": [
    {
     "data": {
      "text/plain": [
       "['In',\n",
       " 'Out',\n",
       " '_',\n",
       " '_35',\n",
       " '_36',\n",
       " '_38',\n",
       " '_39',\n",
       " '_40',\n",
       " '_41',\n",
       " '_43',\n",
       " '_44',\n",
       " '_45',\n",
       " '_46',\n",
       " '_48',\n",
       " '__',\n",
       " '___',\n",
       " '__builtin__',\n",
       " '__builtins__',\n",
       " '__doc__',\n",
       " '__loader__',\n",
       " '__name__',\n",
       " '__package__',\n",
       " '__spec__',\n",
       " '_dh',\n",
       " '_i',\n",
       " '_i1',\n",
       " '_i10',\n",
       " '_i11',\n",
       " '_i12',\n",
       " '_i13',\n",
       " '_i14',\n",
       " '_i15',\n",
       " '_i16',\n",
       " '_i17',\n",
       " '_i18',\n",
       " '_i19',\n",
       " '_i2',\n",
       " '_i20',\n",
       " '_i21',\n",
       " '_i22',\n",
       " '_i23',\n",
       " '_i24',\n",
       " '_i25',\n",
       " '_i26',\n",
       " '_i27',\n",
       " '_i28',\n",
       " '_i29',\n",
       " '_i3',\n",
       " '_i30',\n",
       " '_i31',\n",
       " '_i32',\n",
       " '_i33',\n",
       " '_i34',\n",
       " '_i35',\n",
       " '_i36',\n",
       " '_i37',\n",
       " '_i38',\n",
       " '_i39',\n",
       " '_i4',\n",
       " '_i40',\n",
       " '_i41',\n",
       " '_i42',\n",
       " '_i43',\n",
       " '_i44',\n",
       " '_i45',\n",
       " '_i46',\n",
       " '_i47',\n",
       " '_i48',\n",
       " '_i49',\n",
       " '_i5',\n",
       " '_i50',\n",
       " '_i51',\n",
       " '_i6',\n",
       " '_i7',\n",
       " '_i8',\n",
       " '_i9',\n",
       " '_ih',\n",
       " '_ii',\n",
       " '_iii',\n",
       " '_oh',\n",
       " 'a',\n",
       " 'alist',\n",
       " 'bar',\n",
       " 'changeme',\n",
       " 'dellist',\n",
       " 'exit',\n",
       " 'get_ipython',\n",
       " 'luaslingkaran',\n",
       " 'mod',\n",
       " 'my_function',\n",
       " 'my_module',\n",
       " 'mylist',\n",
       " 'printinfo',\n",
       " 'printme',\n",
       " 'quit',\n",
       " 's',\n",
       " 'string',\n",
       " 'sum',\n",
       " 'total']"
      ]
     },
     "execution_count": 51,
     "metadata": {},
     "output_type": "execute_result"
    }
   ],
   "source": [
    "dir()"
   ]
  },
  {
   "cell_type": "code",
   "execution_count": 55,
   "id": "feb905c5",
   "metadata": {},
   "outputs": [
    {
     "name": "stdout",
     "output_type": "stream",
     "text": [
      "Response returned: 200, OK\n",
      "<!DOCTYPE html>\r\n",
      "<html lang=\"id\">\r\n",
      "  <head>\r\n",
      "    <meta charset=\"utf-8\" />\r\n",
      "    <meta name=\"viewport\" content=\"width=device-width, initial-scale=1\" />\r\n",
      "\r\n",
      "    <!-- CSRF Token -->\r\n",
      "    <meta name=\"csrf-token\" content=\"yDzp64CIb510bcY3xhLExgPtkcOOkrIVAXY6JJCm\" />\r\n",
      "\r\n",
      "    <title>Log In - SMI ReFina PEN</title>\r\n",
      "\r\n",
      "    <!-- Favicon -->\r\n",
      "    <link rel=\"apple-touch-icon\" sizes=\"180x180\" href=\"https://refinapen.ptsmi.co.id/img/favicon/apple-touch-icon.png\">\r\n",
      "    <link rel=\"icon\" type=\"image/png\" sizes=\"32x32\" href=\"https://refinapen.ptsmi.co.id/img/favicon/favicon-32x32.png\">\r\n",
      "    <link rel=\"icon\" type=\"image/png\" sizes=\"16x16\" href=\"https://refinapen.ptsmi.co.id/img/favicon/favicon-16x16.png\">\r\n",
      "    <link rel=\"manifest\" href=\"https://refinapen.ptsmi.co.id/img/favicon/site.webmanifest\">\r\n",
      "\r\n",
      "    <!-- Styles -->\r\n",
      "        <link href=\"https://refinapen.ptsmi.co.id/css/app.css\" rel=\"stylesheet\" />\r\n",
      "  </head>\r\n",
      "  <body>\r\n",
      "              <div\r\n",
      "  class=\"bg-no-repeat bg-center bg-cover min-h-screen relative overflow-hidden\"\r\n",
      "  style=\"background-image: url('img/bg-login.png')\"\r\n",
      ">\r\n",
      "  <div class=\"absolute inset-0 bg-black bg-opacity-50 overflow-y-auto\">\r\n",
      "    <div\r\n",
      "      class=\"flex items-center justify-center h-full p-12 lg:py-24 lg:px-24 xl:px-48\"\r\n",
      "    >\r\n",
      "      <div class=\"flex w-full bg-white\">\r\n",
      "        <div class=\"px-4 py-16 sm:px-8 lg:px-12 w-full md:w-1/2\">\r\n",
      "          <div class=\"mb-10 lg:mb-3\">\r\n",
      "            <img\r\n",
      "              class=\"mx-auto\"\r\n",
      "              src=\"https://refinapen.ptsmi.co.id/img/logo-smi.png\"\r\n",
      "              alt=\"\"\r\n",
      "              width=\"116\"\r\n",
      "            />\r\n",
      "          </div>\r\n",
      "          <div class=\"text-center mb-14 text-gray-700\">\r\n",
      "            <p>SMI ReFina PEN</p>\r\n",
      "          </div>\r\n",
      "\r\n",
      "          \r\n",
      "                    <!-- start: login form -->\r\n",
      "          <form method=\"POST\" action=\"https://refinapen.ptsmi.co.id/login\">\r\n",
      "            <input type=\"hidden\" name=\"_token\" value=\"yDzp64CIb510bcY3xhLExgPtkcOOkrIVAXY6JJCm\">            \r\n",
      "            <div class=\"form-group\">\r\n",
      "              <div class=\"input-with-icon end\">\r\n",
      "                <input\r\n",
      "                  type=\"text\"\r\n",
      "                  class=\"form-control input-block\"\r\n",
      "                  placeholder=\"E-mail\"\r\n",
      "                  value=\"\"\r\n",
      "                  name=\"email\"\r\n",
      "                  required\r\n",
      "                  autocomplete=\"email\"\r\n",
      "                  autofocus\r\n",
      "                />\r\n",
      "                <div class=\"icon\">\r\n",
      "                   <svg viewBox=\"0 0 20 20\" fill=\"currentColor\">\r\n",
      "  <path d=\"M2.003 5.884L10 9.882l7.997-3.998A2 2 0 0016 4H4a2 2 0 00-1.997 1.884z\"/>\r\n",
      "  <path d=\"M18 8.118l-8 4-8-4V14a2 2 0 002 2h12a2 2 0 002-2V8.118z\"/>\r\n",
      "</svg> \r\n",
      "                </div>\r\n",
      "              </div>\r\n",
      "            </div>\r\n",
      "            <div class=\"form-group \">\r\n",
      "              <div class=\"input-with-icon end\">\r\n",
      "                <input\r\n",
      "                  type=\"password\"\r\n",
      "                  class=\"form-control input-block\"\r\n",
      "                  placeholder=\"Kata Sandi\"\r\n",
      "                  name=\"password\"\r\n",
      "                  required\r\n",
      "                  autocomplete=\"current-password\"\r\n",
      "                />\r\n",
      "                <div class=\"icon\">\r\n",
      "                   <svg viewBox=\"0 0 20 20\" fill=\"currentColor\">\r\n",
      "  <path fill-rule=\"evenodd\" d=\"M5 9V7a5 5 0 0110 0v2a2 2 0 012 2v5a2 2 0 01-2 2H5a2 2 0 01-2-2v-5a2 2 0 012-2zm8-2v2H7V7a3 3 0 016 0z\" clip-rule=\"evenodd\"/>\r\n",
      "</svg> \r\n",
      "                </div>\r\n",
      "              </div>\r\n",
      "            </div>\r\n",
      "            <div class=\"-mx-3 mt-4 flex flex-wrap justify-between items-center\">\r\n",
      "              <div class=\"px-3\">\r\n",
      "                <div class=\"form-checkbox\">\r\n",
      "                  <label\r\n",
      "                    >Remember me\r\n",
      "                    <input type=\"checkbox\" id=\"checking\" name=\"remember\" />\r\n",
      "                    <span class=\"checkmark\"></span>\r\n",
      "                  </label>\r\n",
      "                </div>\r\n",
      "              </div>\r\n",
      "              <div class=\"mt-4 px-3 w-full sm:mt-0 sm:w-auto\">\r\n",
      "                <button type=\"submit\" class=\"btn btn-block btn-primary\">\r\n",
      "                  Masuk\r\n",
      "                </button>\r\n",
      "              </div>\r\n",
      "            </div>\r\n",
      "          </form>\r\n",
      "          <!-- end: login form -->\r\n",
      "\r\n",
      "                    <div class=\"mt-5\">\r\n",
      "            <a\r\n",
      "              class=\"block text-blue-200 underline hover:no-underline\"\r\n",
      "              href=\"https://refinapen.ptsmi.co.id/reset-password\"\r\n",
      "              >I forgot my Password</a\r\n",
      "            >\r\n",
      "            <!-- <a\r\n",
      "              class=\"mt-1 block text-blue-200 underline hover:no-underline\"\r\n",
      "              href=\"https://refinapen.ptsmi.co.id/register\"\r\n",
      "              >Register a new membership</a\r\n",
      "            > -->\r\n",
      "          </div>\r\n",
      "                    <!-- add new wording -->\r\n",
      "                    <div>\r\n",
      "            <div class=\"mt-20\">\r\n",
      "              <div class=\"grid justify-center\">\r\n",
      "                <a href=\"https://ptsmi-my.sharepoint.com/:b:/g/personal/permana_ptsmi_co_id/EXNIK9V5-PRFl5SENNO8jOUBdeAhcb6MGqsw8rNlxcGopA?e=zZfGIc\" class=\"btn btn-primary mx-4\" target=\"_blank\">DOWNLOAD BUKU PETUNJUK PENGGUNAAN</a>\r\n",
      "              </div>\r\n",
      "              <div class=\"text-center mt-5\">\r\n",
      "                <p class=\"mb-0\">\r\n",
      "                  Jika Mengalami Kendala, Silahkan Hubungi Call Center 02180825234\r\n",
      "                </p> \r\n",
      "                <small class=\"text-gray-700\">\r\n",
      "                  (hari kerja, 08.00 s.d. 17.00)\r\n",
      "                </small>\r\n",
      "              </div>\r\n",
      "            </div>\r\n",
      "          </div>\r\n",
      "                  </div>\r\n",
      "        <div\r\n",
      "          class=\"w-1/2 relative hidden md:block\"\r\n",
      "          style=\"padding-bottom: 64.286%;\"\r\n",
      "        >\r\n",
      "          <img\r\n",
      "            class=\"absolute inset-0 h-full w-full object-cover object-left-bottom\"\r\n",
      "            src=\"https://refinapen.ptsmi.co.id/img/bg-login.png\"\r\n",
      "            alt=\"\"\r\n",
      "          />\r\n",
      "        </div>\r\n",
      "      </div>\r\n",
      "    </div>\r\n",
      "  </div>\r\n",
      "</div>\r\n",
      "      \r\n",
      "      <script src=\"https://cdn.jsdelivr.net/gh/alpinejs/alpine@v2.x.x/dist/alpine.min.js\" defer></script>\r\n",
      "            <script>\r\n",
      "        window.site = {\"url\":\"https:\\/\\/refinapen.ptsmi.co.id\"}\r\n",
      "      </script>\r\n",
      "              </body>\r\n",
      "</html>\r\n",
      "\n"
     ]
    }
   ],
   "source": [
    "import requests\n",
    "url = 'https://refinapen.ptsmi.co.id'\n",
    "response = requests.get(url)\n",
    "print (f'Response returned: {response.status_code}, {response.reason}')\n",
    "print(response.text)"
   ]
  },
  {
   "cell_type": "code",
   "execution_count": null,
   "id": "26f4f914",
   "metadata": {},
   "outputs": [],
   "source": []
  }
 ],
 "metadata": {
  "kernelspec": {
   "display_name": "Python 3 (ipykernel)",
   "language": "python",
   "name": "python3"
  },
  "language_info": {
   "codemirror_mode": {
    "name": "ipython",
    "version": 3
   },
   "file_extension": ".py",
   "mimetype": "text/x-python",
   "name": "python",
   "nbconvert_exporter": "python",
   "pygments_lexer": "ipython3",
   "version": "3.9.6"
  }
 },
 "nbformat": 4,
 "nbformat_minor": 5
}
